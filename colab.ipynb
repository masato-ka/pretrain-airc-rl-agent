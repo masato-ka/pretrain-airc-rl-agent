{
 "cells": [
  {
   "cell_type": "markdown",
   "source": [
    "[![Open In Colab](https://colab.research.google.com/assets/colab-badge.svg)](http://colab.research.google.com/github/masato-ka/pretrain-airc-rl-agent/blob/master/colab.ipynb)"
   ],
   "metadata": {
    "collapsed": false,
    "pycharm": {
     "name": "#%% md\n"
    }
   }
  },
  {
   "cell_type": "code",
   "execution_count": null,
   "outputs": [],
   "source": [
    "!git clone https://github.com/masato-ka/pretrain-airc-rl-agent.git\n",
    "GIT_ROOT_FOLDER = 'pretrain-airc-rl-agent'"
   ],
   "metadata": {
    "collapsed": false,
    "pycharm": {
     "name": "#%%\n"
    }
   }
  },
  {
   "cell_type": "code",
   "execution_count": null,
   "metadata": {
    "collapsed": true
   },
   "outputs": [],
   "source": [
    "!pip install tensorboard stable_baselines3"
   ]
  },
  {
   "cell_type": "code",
   "execution_count": null,
   "outputs": [],
   "source": [
    "from google.colab import drive\n",
    "drive.mount('/content/drive')"
   ],
   "metadata": {
    "collapsed": false,
    "pycharm": {
     "name": "#%%\n"
    }
   }
  },
  {
   "cell_type": "code",
   "execution_count": null,
   "outputs": [],
   "source": [
    "import os"
   ],
   "metadata": {
    "collapsed": false,
    "pycharm": {
     "name": "#%%\n"
    }
   }
  },
  {
   "cell_type": "markdown",
   "source": [
    "## Define path variables"
   ],
   "metadata": {
    "collapsed": false,
    "pycharm": {
     "name": "#%% md\n"
    }
   }
  },
  {
   "cell_type": "code",
   "execution_count": null,
   "outputs": [],
   "source": [
    "DATASET_FOLDER = 'dataset'\n",
    "MODEL_FOLDER = 'modelzoo'\n",
    "DATASET_ZIPFILE_NAME = 'gt_20211230.zip'\n",
    "VAE_MODEL_FILE_NAME = 'non-reguralization-gt.torch'\n",
    "G_DRIVE_BASE_PATH = '/content/drive/M\\ Drive'\n",
    "COPY_DATASET_FROM_PATH = os.path.join(G_DRIVE_BASE_PATH, DATASET_FOLDER, DATASET_ZIPFILE_NAME)\n",
    "COPY_VAE_MODEL_FROM_PATH = os.path.join(G_DRIVE_BASE_PATH, MODEL_FOLDER, VAE_MODEL_FILE_NAME)"
   ],
   "metadata": {
    "collapsed": false,
    "pycharm": {
     "name": "#%%\n"
    }
   }
  },
  {
   "cell_type": "markdown",
   "source": [
    "## prepare dataset and pre-trained vae model\n",
    "\n",
    "dataset zip file must be contain dataset folder."
   ],
   "metadata": {
    "collapsed": false,
    "pycharm": {
     "name": "#%% md\n"
    }
   }
  },
  {
   "cell_type": "code",
   "source": [
    "## copy and extract dataset\n",
    "!rm -rf $DATASET_FOLDER\n",
    "!cp $COPY_DATASET_FROM_PATH ./\n",
    "!unzip -q $DATASET_ZIPFILE_NAME\n",
    "\n",
    "## copy vae model artifact.\n",
    "!cp $COPY_VAE_MODEL_FROM_PATH ./"
   ],
   "metadata": {
    "collapsed": false,
    "pycharm": {
     "name": "#%%\n"
    }
   },
   "execution_count": null,
   "outputs": []
  },
  {
   "cell_type": "code",
   "execution_count": null,
   "outputs": [],
   "source": [
    "%load_ext tensorboard\n",
    "%tensorboard --logdir ./logs"
   ],
   "metadata": {
    "collapsed": false,
    "pycharm": {
     "name": "#%%\n"
    }
   }
  },
  {
   "cell_type": "code",
   "execution_count": null,
   "outputs": [],
   "source": [
    "%env SM_OUTPUT_DATA_DIR=./\n",
    "%env SM_MODEL_DIR=./\n",
    "%env SM_CHANNEL_TRAIN=./\n",
    "%env SM_CHANNEL_TEST=./\n",
    "\n",
    "!python $GIT_ROOT_FOLDER/train.py --use-cuda True --vae-pretrain $VAE_MODEL_FILE_NAME --train dataset\n"
   ],
   "metadata": {
    "collapsed": false,
    "pycharm": {
     "name": "#%%\n"
    }
   }
  }
 ],
 "metadata": {
  "kernelspec": {
   "display_name": "Python 3",
   "language": "python",
   "name": "python3"
  },
  "language_info": {
   "codemirror_mode": {
    "name": "ipython",
    "version": 2
   },
   "file_extension": ".py",
   "mimetype": "text/x-python",
   "name": "python",
   "nbconvert_exporter": "python",
   "pygments_lexer": "ipython2",
   "version": "2.7.6"
  }
 },
 "nbformat": 4,
 "nbformat_minor": 0
}